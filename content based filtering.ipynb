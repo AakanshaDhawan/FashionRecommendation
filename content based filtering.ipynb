{
 "cells": [
  {
   "cell_type": "markdown",
   "id": "790ab6ff-5f8b-43b1-b029-904d57609897",
   "metadata": {},
   "source": [
    "# Content based Filtering"
   ]
  },
  {
   "cell_type": "code",
   "execution_count": 1,
   "id": "1d11da60-28b6-4ff9-b517-ada7171dd78c",
   "metadata": {},
   "outputs": [],
   "source": [
    "import pandas as pd\n",
    "import numpy as np\n",
    "import matplotlib.pyplot as plt\n",
    "import seaborn as sns\n",
    "import collaborative_filtering\n",
    "from sklearn.feature_extraction.text import TfidfVectorizer\n",
    "from sklearn.metrics.pairwise import cosine_similarity"
   ]
  },
  {
   "cell_type": "code",
   "execution_count": 2,
   "id": "922623e2-8836-407f-80b4-ddd4b8b97e61",
   "metadata": {},
   "outputs": [],
   "source": [
    "women_wear_2018_winter_some_df = pd.read_csv(\"./women_wear_2018_winter.csv\")"
   ]
  },
  {
   "cell_type": "code",
   "execution_count": 3,
   "id": "63a71c43-55b8-4639-beb7-17bf78e31f1a",
   "metadata": {},
   "outputs": [
    {
     "name": "stderr",
     "output_type": "stream",
     "text": [
      "100%|██████████| 3508/3508 [00:00<00:00, 5998.97it/s]\n",
      " 17%|█▋        | 596/3508 [00:00<00:00, 5947.82it/s]"
     ]
    },
    {
     "name": "stdout",
     "output_type": "stream",
     "text": [
      "Number of users: 89\n"
     ]
    },
    {
     "name": "stderr",
     "output_type": "stream",
     "text": [
      "100%|██████████| 3508/3508 [00:00<00:00, 5670.94it/s]\n",
      "100%|██████████| 3612/3612 [00:00<00:00, 5176.63it/s]\n",
      " 16%|█▌        | 566/3612 [00:00<00:00, 5658.21it/s]"
     ]
    },
    {
     "name": "stdout",
     "output_type": "stream",
     "text": [
      "Number of users: 124\n"
     ]
    },
    {
     "name": "stderr",
     "output_type": "stream",
     "text": [
      "100%|██████████| 3612/3612 [00:00<00:00, 5386.85it/s]\n",
      "100%|██████████| 3665/3665 [00:00<00:00, 5269.80it/s]\n",
      " 12%|█▏        | 426/3665 [00:00<00:00, 4199.84it/s]"
     ]
    },
    {
     "name": "stdout",
     "output_type": "stream",
     "text": [
      "Number of users: 66\n"
     ]
    },
    {
     "name": "stderr",
     "output_type": "stream",
     "text": [
      "100%|██████████| 3665/3665 [00:00<00:00, 6012.39it/s]\n",
      "100%|██████████| 3506/3506 [00:00<00:00, 4907.80it/s]\n",
      " 18%|█▊        | 619/3506 [00:00<00:00, 6140.16it/s]"
     ]
    },
    {
     "name": "stdout",
     "output_type": "stream",
     "text": [
      "Number of users: 63\n"
     ]
    },
    {
     "name": "stderr",
     "output_type": "stream",
     "text": [
      "100%|██████████| 3506/3506 [00:00<00:00, 5241.17it/s]\n",
      "100%|██████████| 3601/3601 [00:00<00:00, 3883.22it/s]\n",
      " 13%|█▎        | 480/3601 [00:00<00:00, 4769.51it/s]"
     ]
    },
    {
     "name": "stdout",
     "output_type": "stream",
     "text": [
      "Number of users: 113\n"
     ]
    },
    {
     "name": "stderr",
     "output_type": "stream",
     "text": [
      "100%|██████████| 3601/3601 [00:00<00:00, 3779.65it/s]\n",
      "100%|██████████| 3652/3652 [00:00<00:00, 5334.84it/s]\n",
      " 17%|█▋        | 608/3652 [00:00<00:00, 6049.92it/s]"
     ]
    },
    {
     "name": "stdout",
     "output_type": "stream",
     "text": [
      "Number of users: 119\n"
     ]
    },
    {
     "name": "stderr",
     "output_type": "stream",
     "text": [
      "100%|██████████| 3652/3652 [00:00<00:00, 4968.50it/s]\n",
      "100%|██████████| 3570/3570 [00:00<00:00, 5581.63it/s]\n",
      " 15%|█▌        | 544/3570 [00:00<00:00, 5417.18it/s]"
     ]
    },
    {
     "name": "stdout",
     "output_type": "stream",
     "text": [
      "Number of users: 86\n"
     ]
    },
    {
     "name": "stderr",
     "output_type": "stream",
     "text": [
      "100%|██████████| 3570/3570 [00:00<00:00, 5211.25it/s]\n",
      "100%|██████████| 3732/3732 [00:00<00:00, 4756.08it/s]\n",
      " 17%|█▋        | 627/3732 [00:00<00:00, 6261.05it/s]"
     ]
    },
    {
     "name": "stdout",
     "output_type": "stream",
     "text": [
      "Number of users: 97\n"
     ]
    },
    {
     "name": "stderr",
     "output_type": "stream",
     "text": [
      "100%|██████████| 3732/3732 [00:00<00:00, 5115.54it/s]"
     ]
    },
    {
     "name": "stdout",
     "output_type": "stream",
     "text": [
      "Wall time: 2min\n"
     ]
    },
    {
     "name": "stderr",
     "output_type": "stream",
     "text": [
      "\n"
     ]
    }
   ],
   "source": [
    "%%time\n",
    "\n",
    "avg_percision = []\n",
    "mean_avg_percision = []\n",
    "num_users = []\n",
    "timeline = []\n",
    "\n",
    "# week 44 - 52\n",
    "for wk in range(44,52):\n",
    "    masking = women_wear_2018_winter_some_df.week == wk #subset only one week of training data\n",
    "    df_x_train = women_wear_2018_winter_some_df.loc[masking].reset_index(drop=True)\n",
    "    masking = women_wear_2018_winter_some_df.week == wk+1\n",
    "    df_x_test = women_wear_2018_winter_some_df.loc[masking].reset_index(drop=True)[['customer_id','article_id']]\n",
    "\n",
    "    #concatenate all text information\n",
    "    df_x_train['details_description'] = df_x_train['product_type_name'] + \" \" + \\\n",
    "                                     df_x_train['product_group_name'] + \" \" + \\\n",
    "                                     df_x_train['graphical_appearance_name'] + \" \" + \\\n",
    "                                     df_x_train['colour_group_name'] + \" \" + \\\n",
    "                                     df_x_train['perceived_colour_value_name'] + \" \" + \\\n",
    "                                     df_x_train['perceived_colour_master_name'] + \" \" + \\\n",
    "                                     df_x_train['department_name'] + \" \" + \\\n",
    "                                     df_x_train['section_name'] + \" \" + \\\n",
    "                                     df_x_train['garment_group_name'] + \" \" + \\\n",
    "                                     df_x_train['detail_desc']\n",
    "\n",
    "    #subset article_id and description column\n",
    "    df_article_description = df_x_train[['article_id','details_description']].drop_duplicates().dropna().reset_index(drop=True)\n",
    "\n",
    "    #TF-IDF\n",
    "    tf_idf_vectorizer = TfidfVectorizer()\n",
    "    df_vector = tf_idf_vectorizer.fit_transform(df_article_description['details_description'])\n",
    "\n",
    "    #Calculate cosine similarity between articles\n",
    "    cos_sim = cosine_similarity(df_vector)\n",
    "\n",
    "    #sort index of similarity\n",
    "    sorted_cos_sim = np.fliplr(np.argsort(cos_sim))\n",
    "\n",
    "    #find customers in training and their purchases items\n",
    "    cIds = df_x_train.customer_id.unique()\n",
    "\n",
    "    #dict to save customer_id and recommended article_ids\n",
    "    recommended_items = {}\n",
    "\n",
    "    for cId in cIds:\n",
    "\n",
    "        #find items purchased by customer in training\n",
    "        purchased = list(df_x_train.loc[df_x_train.customer_id == cId].article_id.unique())\n",
    "\n",
    "        #empty list to store similarity array for each purchased item\n",
    "        items_similar = []\n",
    "\n",
    "        #for each article_id, find its 5 most similar items' similarites\n",
    "        for p in purchased:\n",
    "\n",
    "            #article_id's index\n",
    "            article_index = np.where(df_article_description.article_id == p)[0]\n",
    "\n",
    "            if article_index.size == 1:\n",
    "                article_index = article_index[0]\n",
    "                #use article_id's index to get its similarity vectors with others and append to list\n",
    "                items_similar.append(cos_sim[article_index])\n",
    "\n",
    "        #if no similarity item, go to next customer\n",
    "        if len(items_similar) == 0:\n",
    "            break\n",
    "        \n",
    "        #convert similarity_items list to np array\n",
    "        items_similar = np.asarray(items_similar)\n",
    "\n",
    "        #replace 1. with 0 in the similarity_items (1 is the item itself)\n",
    "        items_similar[items_similar > 0.999] = 0\n",
    "\n",
    "        #Get index of 5 highest similarity for each purchased item\n",
    "        high_sim_index = np.argpartition(items_similar, -5)[:,-5:].flatten()\n",
    "\n",
    "        #Get similarity using above index info\n",
    "        high_similarity = np.take(items_similar, high_sim_index).flatten()\n",
    "\n",
    "        #make a dataframe\n",
    "        item_index_sim_df = pd.DataFrame({\"item_idx\":high_sim_index, \"similarity\":high_similarity})\n",
    "        #sort by similarity and get the first 5 items\n",
    "        item_index_sim_df = item_index_sim_df.sort_values('similarity', ascending=False).reset_index(drop=True)[0:5]\n",
    "\n",
    "        #retrieve the article_id by index\n",
    "        recommend_article_ids = list(df_article_description.article_id[list(item_index_sim_df.item_idx)])\n",
    "\n",
    "        #add user_id and recommended items to dict\n",
    "        recommended_items[cId] = recommend_article_ids\n",
    "\n",
    "       \n",
    "    # calculating average percision for top 10 recommended items\n",
    "    avg_perp, num_user = collaborative_filtering.average_of_precision(recommended_items, df_x_test)\n",
    "    avg_percision.append(avg_perp)\n",
    "\n",
    "    # calculating mean_avg_percision for top 10 recommended items\n",
    "    mean_avg_per, num_user = collaborative_filtering.mean_average_precision(recommended_items, df_x_test)\n",
    "    mean_avg_percision.append(mean_avg_per)\n",
    "\n",
    "    #append number of users\n",
    "    num_users.append(num_user)\n",
    "    \n",
    "    #append week to timeline\n",
    "    timeline.append('Wk_'+str(wk+1))\n"
   ]
  },
  {
   "cell_type": "code",
   "execution_count": 4,
   "id": "b4c8b6af-9d9d-4447-944f-dfa916fb8568",
   "metadata": {},
   "outputs": [
    {
     "data": {
      "text/plain": [
       "[0.04711610486891387,\n",
       " 0.06940860215053765,\n",
       " 0.06378787878787877,\n",
       " 0.03788359788359789,\n",
       " 0.06749262536873156,\n",
       " 0.06439775910364146,\n",
       " 0.029457364341085274,\n",
       " 0.05508591065292097]"
      ]
     },
     "execution_count": 4,
     "metadata": {},
     "output_type": "execute_result"
    }
   ],
   "source": [
    "mean_avg_percision"
   ]
  },
  {
   "cell_type": "code",
   "execution_count": 5,
   "id": "195e649d-3e75-4aa0-84d8-f74c5a93f336",
   "metadata": {},
   "outputs": [],
   "source": [
    "#save results in a dataframe\n",
    "result_df = pd.DataFrame({'timeline':timeline,\n",
    "                          'avg_percision':avg_percision,\n",
    "                          'mean_avg_percision':mean_avg_percision,\n",
    "                          'num_users':num_users})"
   ]
  },
  {
   "cell_type": "code",
   "execution_count": 6,
   "id": "d28e01a4-7b6b-4be8-9334-b6d9b31920bd",
   "metadata": {},
   "outputs": [
    {
     "data": {
      "text/plain": [
       "<matplotlib.legend.Legend at 0x138d4653070>"
      ]
     },
     "execution_count": 6,
     "metadata": {},
     "output_type": "execute_result"
    },
    {
     "data": {
      "image/png": "[encoded data removed]",
      "text/plain": [
       "<Figure size 720x432 with 1 Axes>"
      ]
     },
     "metadata": {
      "needs_background": "light"
     },
     "output_type": "display_data"
    }
   ],
   "source": [
    "#plot for AOP MAP\n",
    "plt.figure(figsize=(10,6))\n",
    "plt.plot(result_df.timeline, result_df.avg_percision, color= 'blue')\n",
    "plt.plot(result_df.timeline, result_df.mean_avg_percision, color= 'orange')\n",
    "plt.title(\"Matrices for content based filtering\")\n",
    "\n",
    "plt.xlabel('2018 Nov-Dec')\n",
    "plt.ylabel('Precision of 5 products')\n",
    "plt.legend(['Average Percision','Mean Average Percision'])"
   ]
  },
  {
   "cell_type": "code",
   "execution_count": 7,
   "id": "6d93b006-2124-43ab-8cd9-70b0950b23d5",
   "metadata": {},
   "outputs": [
    {
     "data": {
      "text/plain": [
       "<matplotlib.legend.Legend at 0x138d4286d60>"
      ]
     },
     "execution_count": 7,
     "metadata": {},
     "output_type": "execute_result"
    },
    {
     "data": {
      "image/png": "[encoded data removed]",
      "text/plain": [
       "<Figure size 720x432 with 1 Axes>"
      ]
     },
     "metadata": {
      "needs_background": "light"
     },
     "output_type": "display_data"
    }
   ],
   "source": [
    "#scatter plot for avg_percision and mean_avg_percision against number of users\n",
    "plt.figure(figsize=(10,6))\n",
    "plt.scatter(result_df.num_users, result_df.avg_percision, color = 'blue')\n",
    "plt.scatter(result_df.num_users, result_df.mean_avg_percision, color = 'orange')\n",
    "plt.xlabel('Number of customers')\n",
    "plt.ylabel('Precision of 5 products')\n",
    "plt.legend(['Average Percision','Mean Average Percision'])"
   ]
  },
  {
   "cell_type": "code",
   "execution_count": null,
   "id": "719041d8-d1b5-4e74-a29b-3ed56bd2fd38",
   "metadata": {},
   "outputs": [],
   "source": []
  }
 ],
 "metadata": {
  "kernelspec": {
   "display_name": "Python 3",
   "language": "python",
   "name": "python3"
  },
  "language_info": {
   "codemirror_mode": {
    "name": "ipython",
    "version": 3
   },
   "file_extension": ".py",
   "mimetype": "text/x-python",
   "name": "python",
   "nbconvert_exporter": "python",
   "pygments_lexer": "ipython3",
   "version": "3.8.8"
  }
 },
 "nbformat": 4,
 "nbformat_minor": 5
}
