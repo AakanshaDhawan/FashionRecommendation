{
 "cells": [
  {
   "cell_type": "markdown",
   "id": "ace64a53-8731-4ed6-bcfc-e5fc3f58cbdc",
   "metadata": {},
   "source": [
    "# Item based collaborative Filtering"
   ]
  },
  {
   "cell_type": "code",
   "execution_count": 1,
   "id": "29fba982-89b5-4259-8e29-34695b2e9a31",
   "metadata": {},
   "outputs": [],
   "source": [
    "import pandas as pd\n",
    "import numpy as np\n",
    "import matplotlib.pyplot as plt\n",
    "import seaborn as sns\n",
    "import collaborative_filtering"
   ]
  },
  {
   "cell_type": "code",
   "execution_count": 2,
   "id": "ec67aab3-e2ae-4f2f-8ee5-6bdfcfb1c350",
   "metadata": {},
   "outputs": [],
   "source": [
    "women_wear_2018_winter_some_df = pd.read_csv(\"./women_wear_2018_winter.csv\")"
   ]
  },
  {
   "cell_type": "code",
   "execution_count": 3,
   "id": "f93055dd-d336-44ed-913d-356bad824286",
   "metadata": {},
   "outputs": [
    {
     "data": {
      "text/html": [
       "<div>\n",
       "<style scoped>\n",
       "    .dataframe tbody tr th:only-of-type {\n",
       "        vertical-align: middle;\n",
       "    }\n",
       "\n",
       "    .dataframe tbody tr th {\n",
       "        vertical-align: top;\n",
       "    }\n",
       "\n",
       "    .dataframe thead th {\n",
       "        text-align: right;\n",
       "    }\n",
       "</style>\n",
       "<table border=\"1\" class=\"dataframe\">\n",
       "  <thead>\n",
       "    <tr style=\"text-align: right;\">\n",
       "      <th></th>\n",
       "      <th>t_dat</th>\n",
       "      <th>customer_id</th>\n",
       "      <th>article_id</th>\n",
       "      <th>price</th>\n",
       "      <th>sales_channel_id</th>\n",
       "      <th>year</th>\n",
       "      <th>month</th>\n",
       "      <th>week</th>\n",
       "      <th>product_code</th>\n",
       "      <th>prod_name</th>\n",
       "      <th>...</th>\n",
       "      <th>department_name</th>\n",
       "      <th>index_code</th>\n",
       "      <th>index_name</th>\n",
       "      <th>index_group_no</th>\n",
       "      <th>index_group_name</th>\n",
       "      <th>section_no</th>\n",
       "      <th>section_name</th>\n",
       "      <th>garment_group_no</th>\n",
       "      <th>garment_group_name</th>\n",
       "      <th>detail_desc</th>\n",
       "    </tr>\n",
       "  </thead>\n",
       "  <tbody>\n",
       "    <tr>\n",
       "      <th>0</th>\n",
       "      <td>2018-11-01</td>\n",
       "      <td>0769f05e4ff5a70e906cf5bc77d9535ec21c6cef5538ad...</td>\n",
       "      <td>108775015</td>\n",
       "      <td>0.008458</td>\n",
       "      <td>1.0</td>\n",
       "      <td>2018</td>\n",
       "      <td>11.0</td>\n",
       "      <td>44</td>\n",
       "      <td>108775</td>\n",
       "      <td>Strap top</td>\n",
       "      <td>...</td>\n",
       "      <td>Jersey Basic</td>\n",
       "      <td>A</td>\n",
       "      <td>Ladieswear</td>\n",
       "      <td>1</td>\n",
       "      <td>Ladieswear</td>\n",
       "      <td>16</td>\n",
       "      <td>Womens Everyday Basics</td>\n",
       "      <td>1002</td>\n",
       "      <td>Jersey Basic</td>\n",
       "      <td>Jersey top with narrow shoulder straps.</td>\n",
       "    </tr>\n",
       "    <tr>\n",
       "      <th>1</th>\n",
       "      <td>2018-11-01</td>\n",
       "      <td>0c44061274a6eaeec897b89520eae026f61dba43e16157...</td>\n",
       "      <td>108775015</td>\n",
       "      <td>0.008458</td>\n",
       "      <td>1.0</td>\n",
       "      <td>2018</td>\n",
       "      <td>11.0</td>\n",
       "      <td>44</td>\n",
       "      <td>108775</td>\n",
       "      <td>Strap top</td>\n",
       "      <td>...</td>\n",
       "      <td>Jersey Basic</td>\n",
       "      <td>A</td>\n",
       "      <td>Ladieswear</td>\n",
       "      <td>1</td>\n",
       "      <td>Ladieswear</td>\n",
       "      <td>16</td>\n",
       "      <td>Womens Everyday Basics</td>\n",
       "      <td>1002</td>\n",
       "      <td>Jersey Basic</td>\n",
       "      <td>Jersey top with narrow shoulder straps.</td>\n",
       "    </tr>\n",
       "    <tr>\n",
       "      <th>2</th>\n",
       "      <td>2018-11-01</td>\n",
       "      <td>0e96235473e2915efbd406190641115aa1bc924e57aa97...</td>\n",
       "      <td>108775015</td>\n",
       "      <td>0.008458</td>\n",
       "      <td>1.0</td>\n",
       "      <td>2018</td>\n",
       "      <td>11.0</td>\n",
       "      <td>44</td>\n",
       "      <td>108775</td>\n",
       "      <td>Strap top</td>\n",
       "      <td>...</td>\n",
       "      <td>Jersey Basic</td>\n",
       "      <td>A</td>\n",
       "      <td>Ladieswear</td>\n",
       "      <td>1</td>\n",
       "      <td>Ladieswear</td>\n",
       "      <td>16</td>\n",
       "      <td>Womens Everyday Basics</td>\n",
       "      <td>1002</td>\n",
       "      <td>Jersey Basic</td>\n",
       "      <td>Jersey top with narrow shoulder straps.</td>\n",
       "    </tr>\n",
       "    <tr>\n",
       "      <th>3</th>\n",
       "      <td>2018-11-01</td>\n",
       "      <td>13601d393fcaf51faff73621a3569df7f5ed2557f9a27d...</td>\n",
       "      <td>108775015</td>\n",
       "      <td>0.008458</td>\n",
       "      <td>2.0</td>\n",
       "      <td>2018</td>\n",
       "      <td>11.0</td>\n",
       "      <td>44</td>\n",
       "      <td>108775</td>\n",
       "      <td>Strap top</td>\n",
       "      <td>...</td>\n",
       "      <td>Jersey Basic</td>\n",
       "      <td>A</td>\n",
       "      <td>Ladieswear</td>\n",
       "      <td>1</td>\n",
       "      <td>Ladieswear</td>\n",
       "      <td>16</td>\n",
       "      <td>Womens Everyday Basics</td>\n",
       "      <td>1002</td>\n",
       "      <td>Jersey Basic</td>\n",
       "      <td>Jersey top with narrow shoulder straps.</td>\n",
       "    </tr>\n",
       "    <tr>\n",
       "      <th>4</th>\n",
       "      <td>2018-11-01</td>\n",
       "      <td>13601d393fcaf51faff73621a3569df7f5ed2557f9a27d...</td>\n",
       "      <td>108775015</td>\n",
       "      <td>0.008458</td>\n",
       "      <td>2.0</td>\n",
       "      <td>2018</td>\n",
       "      <td>11.0</td>\n",
       "      <td>44</td>\n",
       "      <td>108775</td>\n",
       "      <td>Strap top</td>\n",
       "      <td>...</td>\n",
       "      <td>Jersey Basic</td>\n",
       "      <td>A</td>\n",
       "      <td>Ladieswear</td>\n",
       "      <td>1</td>\n",
       "      <td>Ladieswear</td>\n",
       "      <td>16</td>\n",
       "      <td>Womens Everyday Basics</td>\n",
       "      <td>1002</td>\n",
       "      <td>Jersey Basic</td>\n",
       "      <td>Jersey top with narrow shoulder straps.</td>\n",
       "    </tr>\n",
       "  </tbody>\n",
       "</table>\n",
       "<p>5 rows × 32 columns</p>\n",
       "</div>"
      ],
      "text/plain": [
       "        t_dat                                        customer_id  article_id  \\\n",
       "0  2018-11-01  0769f05e4ff5a70e906cf5bc77d9535ec21c6cef5538ad...   108775015   \n",
       "1  2018-11-01  0c44061274a6eaeec897b89520eae026f61dba43e16157...   108775015   \n",
       "2  2018-11-01  0e96235473e2915efbd406190641115aa1bc924e57aa97...   108775015   \n",
       "3  2018-11-01  13601d393fcaf51faff73621a3569df7f5ed2557f9a27d...   108775015   \n",
       "4  2018-11-01  13601d393fcaf51faff73621a3569df7f5ed2557f9a27d...   108775015   \n",
       "\n",
       "      price  sales_channel_id  year  month  week  product_code  prod_name  \\\n",
       "0  0.008458               1.0  2018   11.0    44        108775  Strap top   \n",
       "1  0.008458               1.0  2018   11.0    44        108775  Strap top   \n",
       "2  0.008458               1.0  2018   11.0    44        108775  Strap top   \n",
       "3  0.008458               2.0  2018   11.0    44        108775  Strap top   \n",
       "4  0.008458               2.0  2018   11.0    44        108775  Strap top   \n",
       "\n",
       "   ...  department_name index_code  index_name  index_group_no  \\\n",
       "0  ...     Jersey Basic          A  Ladieswear               1   \n",
       "1  ...     Jersey Basic          A  Ladieswear               1   \n",
       "2  ...     Jersey Basic          A  Ladieswear               1   \n",
       "3  ...     Jersey Basic          A  Ladieswear               1   \n",
       "4  ...     Jersey Basic          A  Ladieswear               1   \n",
       "\n",
       "  index_group_name  section_no            section_name  garment_group_no  \\\n",
       "0       Ladieswear          16  Womens Everyday Basics              1002   \n",
       "1       Ladieswear          16  Womens Everyday Basics              1002   \n",
       "2       Ladieswear          16  Womens Everyday Basics              1002   \n",
       "3       Ladieswear          16  Womens Everyday Basics              1002   \n",
       "4       Ladieswear          16  Womens Everyday Basics              1002   \n",
       "\n",
       "  garment_group_name                              detail_desc  \n",
       "0       Jersey Basic  Jersey top with narrow shoulder straps.  \n",
       "1       Jersey Basic  Jersey top with narrow shoulder straps.  \n",
       "2       Jersey Basic  Jersey top with narrow shoulder straps.  \n",
       "3       Jersey Basic  Jersey top with narrow shoulder straps.  \n",
       "4       Jersey Basic  Jersey top with narrow shoulder straps.  \n",
       "\n",
       "[5 rows x 32 columns]"
      ]
     },
     "execution_count": 3,
     "metadata": {},
     "output_type": "execute_result"
    }
   ],
   "source": [
    "women_wear_2018_winter_some_df.head()"
   ]
  },
  {
   "cell_type": "code",
   "execution_count": 4,
   "id": "b91ab666-ff08-425e-a226-2a036b78ebc0",
   "metadata": {},
   "outputs": [
    {
     "data": {
      "text/plain": [
       "array([44, 45, 46, 47, 48, 49, 50, 51, 52], dtype=int64)"
      ]
     },
     "execution_count": 4,
     "metadata": {},
     "output_type": "execute_result"
    }
   ],
   "source": [
    "#unique week number in 2018 winter data\n",
    "women_wear_2018_winter_some_df.week.unique()"
   ]
  },
  {
   "cell_type": "code",
   "execution_count": null,
   "id": "40763423-7b69-40f9-98f0-1b4f170ce726",
   "metadata": {},
   "outputs": [
    {
     "name": "stderr",
     "output_type": "stream",
     "text": [
      "100%|██████████| 3508/3508 [00:00<00:00, 4768.47it/s]\n",
      " 28%|██▊       | 985/3508 [00:00<00:00, 4910.65it/s]"
     ]
    },
    {
     "name": "stdout",
     "output_type": "stream",
     "text": [
      "Number of users: 89\n"
     ]
    },
    {
     "name": "stderr",
     "output_type": "stream",
     "text": [
      "100%|██████████| 3508/3508 [00:00<00:00, 5362.60it/s]\n",
      "100%|██████████| 7031/7031 [00:01<00:00, 5208.41it/s]\n",
      "  8%|▊         | 571/7031 [00:00<00:01, 5669.95it/s]"
     ]
    },
    {
     "name": "stdout",
     "output_type": "stream",
     "text": [
      "Number of users: 175\n"
     ]
    },
    {
     "name": "stderr",
     "output_type": "stream",
     "text": [
      "100%|██████████| 7031/7031 [00:01<00:00, 5101.08it/s]\n",
      "100%|██████████| 10521/10521 [00:01<00:00, 5772.21it/s]\n",
      "  5%|▌         | 535/10521 [00:00<00:01, 5302.17it/s]"
     ]
    },
    {
     "name": "stdout",
     "output_type": "stream",
     "text": [
      "Number of users: 155\n"
     ]
    },
    {
     "name": "stderr",
     "output_type": "stream",
     "text": [
      "100%|██████████| 10521/10521 [00:01<00:00, 5820.30it/s]\n",
      "100%|██████████| 13872/13872 [00:01<00:00, 7290.82it/s]\n",
      "  5%|▌         | 718/13872 [00:00<00:01, 7179.53it/s]"
     ]
    },
    {
     "name": "stdout",
     "output_type": "stream",
     "text": [
      "Number of users: 224\n"
     ]
    },
    {
     "name": "stderr",
     "output_type": "stream",
     "text": [
      "100%|██████████| 13872/13872 [00:01<00:00, 8194.33it/s]\n",
      "100%|██████████| 17249/17249 [00:02<00:00, 7634.88it/s]\n",
      "  4%|▎         | 636/17249 [00:00<00:02, 6321.44it/s]"
     ]
    },
    {
     "name": "stdout",
     "output_type": "stream",
     "text": [
      "Number of users: 310\n"
     ]
    },
    {
     "name": "stderr",
     "output_type": "stream",
     "text": [
      "100%|██████████| 17249/17249 [00:02<00:00, 7647.30it/s]\n",
      "100%|██████████| 20591/20591 [00:02<00:00, 7536.04it/s]\n",
      "  3%|▎         | 544/20591 [00:00<00:03, 5388.17it/s]"
     ]
    },
    {
     "name": "stdout",
     "output_type": "stream",
     "text": [
      "Number of users: 379\n"
     ]
    },
    {
     "name": "stderr",
     "output_type": "stream",
     "text": [
      "100%|██████████| 20591/20591 [00:02<00:00, 7093.47it/s]\n",
      "100%|██████████| 23782/23782 [00:03<00:00, 7697.96it/s]\n",
      "  3%|▎         | 817/23782 [00:00<00:02, 8128.77it/s]"
     ]
    },
    {
     "name": "stdout",
     "output_type": "stream",
     "text": [
      "Number of users: 392\n"
     ]
    },
    {
     "name": "stderr",
     "output_type": "stream",
     "text": [
      "100%|██████████| 23782/23782 [00:03<00:00, 7103.92it/s]\n"
     ]
    }
   ],
   "source": [
    "%%time\n",
    "avg_percision = []\n",
    "mean_avg_percision = []\n",
    "num_users = []\n",
    "timeline = []\n",
    "\n",
    "# week 44 - 52\n",
    "for wk in range(44,52):\n",
    "    \n",
    "    cond_train = women_wear_2018_winter_some_df.week <= wk\n",
    "    X_train = women_wear_2018_winter_some_df.loc[cond_train].reset_index(drop=True)[['customer_id','article_id']]\n",
    "    cond_test = women_wear_2018_winter_some_df.week == wk + 1\n",
    "    X_test = women_wear_2018_winter_some_df.loc[cond_test].reset_index(drop=True)[['customer_id','article_id']]\n",
    "        \n",
    "    #Get recommended items via user-based collaborative filtering\n",
    "    items_recommended = collaborative_filtering.item_based_filter(X_train) \n",
    "\n",
    "    # calculating average percision for top 10 recommended items\n",
    "    avg_perp, num_user = collaborative_filtering.average_of_precision(items_recommended, X_test)\n",
    "    avg_percision.append(avg_perp)\n",
    "\n",
    "    # calculating mean_avg_percision for top 10 recommended items\n",
    "    mean_avg_per, num_user = collaborative_filtering.mean_average_precision(items_recommended, X_test)\n",
    "    mean_avg_percision.append(mean_avg_per)\n",
    "\n",
    "    #append number of users\n",
    "    num_users.append(num_user)\n",
    "    \n",
    "    #append week to timeline\n",
    "    timeline.append('Wk_'+str(wk+1))\n"
   ]
  },
  {
   "cell_type": "code",
   "execution_count": null,
   "id": "c8e044c4-3395-4553-9263-082450bc183d",
   "metadata": {},
   "outputs": [],
   "source": [
    "print(avg_percision)\n",
    "print(mean_avg_percision)\n",
    "print(num_users)\n",
    "print(timeline)"
   ]
  },
  {
   "cell_type": "code",
   "execution_count": null,
   "id": "5a41c5ab-ce91-40a7-acc3-33d9d68a4ad3",
   "metadata": {},
   "outputs": [],
   "source": [
    "#save results in a dataframe\n",
    "result_df = pd.DataFrame({'timeline':timeline,\n",
    "                          'avg_percision':avg_percision,\n",
    "                          'mean_avg_percision':mean_avg_percision,\n",
    "                          'num_users':num_users})"
   ]
  },
  {
   "cell_type": "code",
   "execution_count": null,
   "id": "b865aed2-f5d9-4958-8257-3b8eb726bd88",
   "metadata": {},
   "outputs": [],
   "source": [
    "result_df"
   ]
  },
  {
   "cell_type": "code",
   "execution_count": null,
   "id": "fdd02f1c-f82a-416e-9550-fb704bf2c2be",
   "metadata": {},
   "outputs": [],
   "source": [
    "#plot for avg_percision and mean_avg_percision\n",
    "plt.figure(figsize=(10,6))\n",
    "plt.plot(result_df.timeline, result_df.avg_percision, color= 'blue')\n",
    "plt.plot(result_df.timeline, result_df.mean_avg_percision, color= 'orange')\n",
    "plt.title(\"Matrices for item based collaborative filtering\")\n",
    "plt.xlabel('2018 Nov-Dec')\n",
    "plt.ylabel('Precision of 5 products')\n",
    "plt.legend(['Average Percision','Mean Average Percision'])"
   ]
  },
  {
   "cell_type": "code",
   "execution_count": null,
   "id": "6f247f1d-3c45-4f9d-a1a1-5976aba685ec",
   "metadata": {},
   "outputs": [],
   "source": [
    "#scatter plot for avg_percision and mean_avg_percision against number of users\n",
    "plt.figure(figsize=(10,6))\n",
    "plt.scatter(result_df.num_users, result_df.avg_percision, color = 'blue')\n",
    "plt.scatter(result_df.num_users, result_df.mean_avg_percision, color = 'orange')\n",
    "plt.xlabel('Number of customers')\n",
    "plt.ylabel('Precision of 5 products')\n",
    "plt.legend(['Average Percision','Mean Average Percision'])"
   ]
  }
 ],
 "metadata": {
  "kernelspec": {
   "display_name": "Python 3",
   "language": "python",
   "name": "python3"
  },
  "language_info": {
   "codemirror_mode": {
    "name": "ipython",
    "version": 3
   },
   "file_extension": ".py",
   "mimetype": "text/x-python",
   "name": "python",
   "nbconvert_exporter": "python",
   "pygments_lexer": "ipython3",
   "version": "3.8.8"
  }
 },
 "nbformat": 4,
 "nbformat_minor": 5
}
