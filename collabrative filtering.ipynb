{
 "cells": [
  {
   "cell_type": "code",
   "execution_count": 1,
   "id": "fb6d7393-0ef4-4e62-bc2a-45b4c1c29d0a",
   "metadata": {},
   "outputs": [],
   "source": [
    "import pandas as pd\n",
    "import numpy as np\n",
    "import matplotlib.pyplot as plt\n",
    "import seaborn as sns"
   ]
  },
  {
   "cell_type": "code",
   "execution_count": 2,
   "id": "5d5c0c64-e931-4e52-9d0d-1aa1ed7b7ca8",
   "metadata": {},
   "outputs": [],
   "source": [
    "women_wear_2018_winter_some_df = pd.read_csv(\"./women_wear_2018_winter.csv\")"
   ]
  },
  {
   "cell_type": "code",
   "execution_count": 3,
   "id": "87596560-3b14-441b-8210-c22d6b04a58c",
   "metadata": {},
   "outputs": [],
   "source": [
    "import collaborative_filtering\n"
   ]
  },
  {
   "cell_type": "code",
   "execution_count": 4,
   "id": "340785be-f23b-4bec-8b72-73f234774827",
   "metadata": {},
   "outputs": [
    {
     "data": {
      "text/plain": [
       "array([44, 45, 46, 47, 48, 49, 50, 51, 52], dtype=int64)"
      ]
     },
     "execution_count": 4,
     "metadata": {},
     "output_type": "execute_result"
    }
   ],
   "source": [
    "#unique week number in 2018 winter data\n",
    "women_wear_2018_winter_some_df.week.unique()"
   ]
  },
  {
   "cell_type": "code",
   "execution_count": 5,
   "id": "bb80f786-4c4d-47d1-87a9-48ecdf27a218",
   "metadata": {},
   "outputs": [
    {
     "data": {
      "text/html": [
       "<div>\n",
       "<style scoped>\n",
       "    .dataframe tbody tr th:only-of-type {\n",
       "        vertical-align: middle;\n",
       "    }\n",
       "\n",
       "    .dataframe tbody tr th {\n",
       "        vertical-align: top;\n",
       "    }\n",
       "\n",
       "    .dataframe thead th {\n",
       "        text-align: right;\n",
       "    }\n",
       "</style>\n",
       "<table border=\"1\" class=\"dataframe\">\n",
       "  <thead>\n",
       "    <tr style=\"text-align: right;\">\n",
       "      <th></th>\n",
       "      <th>t_dat</th>\n",
       "      <th>customer_id</th>\n",
       "      <th>article_id</th>\n",
       "      <th>price</th>\n",
       "      <th>sales_channel_id</th>\n",
       "      <th>year</th>\n",
       "      <th>month</th>\n",
       "      <th>week</th>\n",
       "      <th>product_code</th>\n",
       "      <th>prod_name</th>\n",
       "      <th>...</th>\n",
       "      <th>department_name</th>\n",
       "      <th>index_code</th>\n",
       "      <th>index_name</th>\n",
       "      <th>index_group_no</th>\n",
       "      <th>index_group_name</th>\n",
       "      <th>section_no</th>\n",
       "      <th>section_name</th>\n",
       "      <th>garment_group_no</th>\n",
       "      <th>garment_group_name</th>\n",
       "      <th>detail_desc</th>\n",
       "    </tr>\n",
       "  </thead>\n",
       "  <tbody>\n",
       "    <tr>\n",
       "      <th>0</th>\n",
       "      <td>2018-11-01</td>\n",
       "      <td>0769f05e4ff5a70e906cf5bc77d9535ec21c6cef5538ad...</td>\n",
       "      <td>108775015</td>\n",
       "      <td>0.008458</td>\n",
       "      <td>1.0</td>\n",
       "      <td>2018</td>\n",
       "      <td>11.0</td>\n",
       "      <td>44</td>\n",
       "      <td>108775</td>\n",
       "      <td>Strap top</td>\n",
       "      <td>...</td>\n",
       "      <td>Jersey Basic</td>\n",
       "      <td>A</td>\n",
       "      <td>Ladieswear</td>\n",
       "      <td>1</td>\n",
       "      <td>Ladieswear</td>\n",
       "      <td>16</td>\n",
       "      <td>Womens Everyday Basics</td>\n",
       "      <td>1002</td>\n",
       "      <td>Jersey Basic</td>\n",
       "      <td>Jersey top with narrow shoulder straps.</td>\n",
       "    </tr>\n",
       "    <tr>\n",
       "      <th>1</th>\n",
       "      <td>2018-11-01</td>\n",
       "      <td>0c44061274a6eaeec897b89520eae026f61dba43e16157...</td>\n",
       "      <td>108775015</td>\n",
       "      <td>0.008458</td>\n",
       "      <td>1.0</td>\n",
       "      <td>2018</td>\n",
       "      <td>11.0</td>\n",
       "      <td>44</td>\n",
       "      <td>108775</td>\n",
       "      <td>Strap top</td>\n",
       "      <td>...</td>\n",
       "      <td>Jersey Basic</td>\n",
       "      <td>A</td>\n",
       "      <td>Ladieswear</td>\n",
       "      <td>1</td>\n",
       "      <td>Ladieswear</td>\n",
       "      <td>16</td>\n",
       "      <td>Womens Everyday Basics</td>\n",
       "      <td>1002</td>\n",
       "      <td>Jersey Basic</td>\n",
       "      <td>Jersey top with narrow shoulder straps.</td>\n",
       "    </tr>\n",
       "    <tr>\n",
       "      <th>2</th>\n",
       "      <td>2018-11-01</td>\n",
       "      <td>0e96235473e2915efbd406190641115aa1bc924e57aa97...</td>\n",
       "      <td>108775015</td>\n",
       "      <td>0.008458</td>\n",
       "      <td>1.0</td>\n",
       "      <td>2018</td>\n",
       "      <td>11.0</td>\n",
       "      <td>44</td>\n",
       "      <td>108775</td>\n",
       "      <td>Strap top</td>\n",
       "      <td>...</td>\n",
       "      <td>Jersey Basic</td>\n",
       "      <td>A</td>\n",
       "      <td>Ladieswear</td>\n",
       "      <td>1</td>\n",
       "      <td>Ladieswear</td>\n",
       "      <td>16</td>\n",
       "      <td>Womens Everyday Basics</td>\n",
       "      <td>1002</td>\n",
       "      <td>Jersey Basic</td>\n",
       "      <td>Jersey top with narrow shoulder straps.</td>\n",
       "    </tr>\n",
       "    <tr>\n",
       "      <th>3</th>\n",
       "      <td>2018-11-01</td>\n",
       "      <td>13601d393fcaf51faff73621a3569df7f5ed2557f9a27d...</td>\n",
       "      <td>108775015</td>\n",
       "      <td>0.008458</td>\n",
       "      <td>2.0</td>\n",
       "      <td>2018</td>\n",
       "      <td>11.0</td>\n",
       "      <td>44</td>\n",
       "      <td>108775</td>\n",
       "      <td>Strap top</td>\n",
       "      <td>...</td>\n",
       "      <td>Jersey Basic</td>\n",
       "      <td>A</td>\n",
       "      <td>Ladieswear</td>\n",
       "      <td>1</td>\n",
       "      <td>Ladieswear</td>\n",
       "      <td>16</td>\n",
       "      <td>Womens Everyday Basics</td>\n",
       "      <td>1002</td>\n",
       "      <td>Jersey Basic</td>\n",
       "      <td>Jersey top with narrow shoulder straps.</td>\n",
       "    </tr>\n",
       "    <tr>\n",
       "      <th>4</th>\n",
       "      <td>2018-11-01</td>\n",
       "      <td>13601d393fcaf51faff73621a3569df7f5ed2557f9a27d...</td>\n",
       "      <td>108775015</td>\n",
       "      <td>0.008458</td>\n",
       "      <td>2.0</td>\n",
       "      <td>2018</td>\n",
       "      <td>11.0</td>\n",
       "      <td>44</td>\n",
       "      <td>108775</td>\n",
       "      <td>Strap top</td>\n",
       "      <td>...</td>\n",
       "      <td>Jersey Basic</td>\n",
       "      <td>A</td>\n",
       "      <td>Ladieswear</td>\n",
       "      <td>1</td>\n",
       "      <td>Ladieswear</td>\n",
       "      <td>16</td>\n",
       "      <td>Womens Everyday Basics</td>\n",
       "      <td>1002</td>\n",
       "      <td>Jersey Basic</td>\n",
       "      <td>Jersey top with narrow shoulder straps.</td>\n",
       "    </tr>\n",
       "  </tbody>\n",
       "</table>\n",
       "<p>5 rows × 32 columns</p>\n",
       "</div>"
      ],
      "text/plain": [
       "        t_dat                                        customer_id  article_id  \\\n",
       "0  2018-11-01  0769f05e4ff5a70e906cf5bc77d9535ec21c6cef5538ad...   108775015   \n",
       "1  2018-11-01  0c44061274a6eaeec897b89520eae026f61dba43e16157...   108775015   \n",
       "2  2018-11-01  0e96235473e2915efbd406190641115aa1bc924e57aa97...   108775015   \n",
       "3  2018-11-01  13601d393fcaf51faff73621a3569df7f5ed2557f9a27d...   108775015   \n",
       "4  2018-11-01  13601d393fcaf51faff73621a3569df7f5ed2557f9a27d...   108775015   \n",
       "\n",
       "      price  sales_channel_id  year  month  week  product_code  prod_name  \\\n",
       "0  0.008458               1.0  2018   11.0    44        108775  Strap top   \n",
       "1  0.008458               1.0  2018   11.0    44        108775  Strap top   \n",
       "2  0.008458               1.0  2018   11.0    44        108775  Strap top   \n",
       "3  0.008458               2.0  2018   11.0    44        108775  Strap top   \n",
       "4  0.008458               2.0  2018   11.0    44        108775  Strap top   \n",
       "\n",
       "   ...  department_name index_code  index_name  index_group_no  \\\n",
       "0  ...     Jersey Basic          A  Ladieswear               1   \n",
       "1  ...     Jersey Basic          A  Ladieswear               1   \n",
       "2  ...     Jersey Basic          A  Ladieswear               1   \n",
       "3  ...     Jersey Basic          A  Ladieswear               1   \n",
       "4  ...     Jersey Basic          A  Ladieswear               1   \n",
       "\n",
       "  index_group_name  section_no            section_name  garment_group_no  \\\n",
       "0       Ladieswear          16  Womens Everyday Basics              1002   \n",
       "1       Ladieswear          16  Womens Everyday Basics              1002   \n",
       "2       Ladieswear          16  Womens Everyday Basics              1002   \n",
       "3       Ladieswear          16  Womens Everyday Basics              1002   \n",
       "4       Ladieswear          16  Womens Everyday Basics              1002   \n",
       "\n",
       "  garment_group_name                              detail_desc  \n",
       "0       Jersey Basic  Jersey top with narrow shoulder straps.  \n",
       "1       Jersey Basic  Jersey top with narrow shoulder straps.  \n",
       "2       Jersey Basic  Jersey top with narrow shoulder straps.  \n",
       "3       Jersey Basic  Jersey top with narrow shoulder straps.  \n",
       "4       Jersey Basic  Jersey top with narrow shoulder straps.  \n",
       "\n",
       "[5 rows x 32 columns]"
      ]
     },
     "execution_count": 5,
     "metadata": {},
     "output_type": "execute_result"
    }
   ],
   "source": [
    "women_wear_2018_winter_some_df.head()\n",
    "\n",
    "\n",
    "# women_wear_2018_winter_some_df = women_wear_2018_winter_some_df[:5000]"
   ]
  },
  {
   "cell_type": "code",
   "execution_count": 6,
   "id": "31e84d03-37ee-40c5-94f5-196de0d34e2d",
   "metadata": {},
   "outputs": [
    {
     "name": "stderr",
     "output_type": "stream",
     "text": [
      "100%|██████████| 3508/3508 [00:00<00:00, 14479.11it/s]\n",
      " 56%|█████▋    | 1979/3508 [00:00<00:00, 10149.08it/s]"
     ]
    },
    {
     "name": "stdout",
     "output_type": "stream",
     "text": [
      "Number of users: 89\n"
     ]
    },
    {
     "name": "stderr",
     "output_type": "stream",
     "text": [
      "100%|██████████| 3508/3508 [00:00<00:00, 10499.42it/s]\n",
      "100%|██████████| 7031/7031 [00:00<00:00, 7289.78it/s]\n",
      " 10%|▉         | 686/7031 [00:00<00:00, 6854.83it/s]"
     ]
    },
    {
     "name": "stdout",
     "output_type": "stream",
     "text": [
      "Number of users: 175\n"
     ]
    },
    {
     "name": "stderr",
     "output_type": "stream",
     "text": [
      "100%|██████████| 7031/7031 [00:01<00:00, 7020.80it/s]\n",
      "100%|██████████| 10521/10521 [00:01<00:00, 6899.85it/s]\n",
      "  7%|▋         | 712/10521 [00:00<00:01, 7056.16it/s]"
     ]
    },
    {
     "name": "stdout",
     "output_type": "stream",
     "text": [
      "Number of users: 155\n"
     ]
    },
    {
     "name": "stderr",
     "output_type": "stream",
     "text": [
      "100%|██████████| 10521/10521 [00:01<00:00, 6738.68it/s]\n",
      "100%|██████████| 13872/13872 [00:02<00:00, 5783.15it/s]\n",
      "  9%|▉         | 1275/13872 [00:00<00:02, 6261.57it/s]"
     ]
    },
    {
     "name": "stdout",
     "output_type": "stream",
     "text": [
      "Number of users: 224\n"
     ]
    },
    {
     "name": "stderr",
     "output_type": "stream",
     "text": [
      "100%|██████████| 13872/13872 [00:02<00:00, 6105.63it/s]\n",
      "100%|██████████| 17249/17249 [00:02<00:00, 7951.31it/s]\n",
      "  6%|▌         | 965/17249 [00:00<00:01, 9639.51it/s]"
     ]
    },
    {
     "name": "stdout",
     "output_type": "stream",
     "text": [
      "Number of users: 310\n"
     ]
    },
    {
     "name": "stderr",
     "output_type": "stream",
     "text": [
      "100%|██████████| 17249/17249 [00:02<00:00, 7832.25it/s]\n",
      "100%|██████████| 20591/20591 [00:02<00:00, 7738.54it/s]\n",
      "  8%|▊         | 1750/20591 [00:00<00:02, 8535.66it/s]"
     ]
    },
    {
     "name": "stdout",
     "output_type": "stream",
     "text": [
      "Number of users: 379\n"
     ]
    },
    {
     "name": "stderr",
     "output_type": "stream",
     "text": [
      "100%|██████████| 20591/20591 [00:03<00:00, 6153.91it/s]\n",
      "100%|██████████| 23782/23782 [00:03<00:00, 7177.32it/s]\n",
      "  6%|▌         | 1386/23782 [00:00<00:03, 6777.79it/s]"
     ]
    },
    {
     "name": "stdout",
     "output_type": "stream",
     "text": [
      "Number of users: 392\n"
     ]
    },
    {
     "name": "stderr",
     "output_type": "stream",
     "text": [
      "100%|██████████| 23782/23782 [00:03<00:00, 7090.80it/s]\n",
      "100%|██████████| 27122/27122 [00:04<00:00, 5797.80it/s]\n",
      "  2%|▏         | 541/27122 [00:00<00:04, 5403.33it/s]"
     ]
    },
    {
     "name": "stdout",
     "output_type": "stream",
     "text": [
      "Number of users: 392\n"
     ]
    },
    {
     "name": "stderr",
     "output_type": "stream",
     "text": [
      "100%|██████████| 27122/27122 [00:04<00:00, 5805.37it/s]"
     ]
    },
    {
     "name": "stdout",
     "output_type": "stream",
     "text": [
      "Wall time: 8min 19s\n"
     ]
    },
    {
     "name": "stderr",
     "output_type": "stream",
     "text": [
      "\n"
     ]
    }
   ],
   "source": [
    "%%time\n",
    "avg_percision = []\n",
    "mean_avg_percision = []\n",
    "num_users = []\n",
    "timeline = []\n",
    "\n",
    "# week 44 - 52\n",
    "for wk in range(44,52):\n",
    "    \n",
    "    cond_train = women_wear_2018_winter_some_df.week <= wk\n",
    "    X_train = women_wear_2018_winter_some_df.loc[cond_train].reset_index(drop=True)[['customer_id','article_id']]\n",
    "    cond_test = women_wear_2018_winter_some_df.week == wk + 1\n",
    "    X_test = women_wear_2018_winter_some_df.loc[cond_test].reset_index(drop=True)[['customer_id','article_id']]\n",
    "        \n",
    "    #applying user-based collaborative filtering to get recommended items\n",
    "    items_recommended = collaborative_filtering.user_based_filter(X_train, \n",
    "                                                       similar_user_number = 500, max_items = 5) \n",
    "\n",
    "    # calculating average percision for top 10 recommended items\n",
    "    avg_perp, num_user = collaborative_filtering.average_of_precision(items_recommended, X_test)\n",
    "    avg_percision.append(avg_perp)\n",
    "\n",
    "    # calculating mean_avg_percision for top 10 recommended items\n",
    "    mean_avg_per, num_user = collaborative_filtering.mean_average_precision(items_recommended, X_test)\n",
    "    mean_avg_percision.append(mean_avg_per)\n",
    "\n",
    "    #append number of users\n",
    "    num_users.append(num_user)\n",
    "    \n",
    "    #append week to timeline\n",
    "    timeline.append('Wk_'+str(wk+1))\n",
    "    "
   ]
  },
  {
   "cell_type": "code",
   "execution_count": 7,
   "id": "24d166fc-132e-4196-bcbe-abba5308cf8f",
   "metadata": {},
   "outputs": [
    {
     "name": "stdout",
     "output_type": "stream",
     "text": [
      "[0.03370786516853933, 0.027428571428571438, 0.04129032258064518, 0.02767857142857144, 0.027096774193548393, 0.026385224274406323, 0.03086734693877548, 0.02755102040816326]\n",
      "[0.03932584269662922, 0.025771428571428574, 0.06019354838709678, 0.03864583333333334, 0.02918279569892472, 0.0328056288478452, 0.035042517006802686, 0.029617346938775508]\n",
      "[89, 175, 155, 224, 310, 379, 392, 392]\n",
      "['Wk_45', 'Wk_46', 'Wk_47', 'Wk_48', 'Wk_49', 'Wk_50', 'Wk_51', 'Wk_52']\n"
     ]
    }
   ],
   "source": [
    "print(avg_percision)\n",
    "print(mean_avg_percision)\n",
    "print(num_users)\n",
    "print(timeline)"
   ]
  },
  {
   "cell_type": "code",
   "execution_count": 8,
   "id": "c2d184d5-7bc4-41d8-b8c8-4618f84f4cd5",
   "metadata": {},
   "outputs": [],
   "source": [
    "#save results in a dataframe\n",
    "result_df = pd.DataFrame({'timeline':timeline,\n",
    "                          'avg_percision':avg_percision,\n",
    "                          'mean_avg_percision':mean_avg_percision,\n",
    "                          'num_users':num_users})"
   ]
  },
  {
   "cell_type": "code",
   "execution_count": 9,
   "id": "d70d204f-77aa-47d9-a52b-602ea38fbfe0",
   "metadata": {},
   "outputs": [
    {
     "data": {
      "text/html": [
       "<div>\n",
       "<style scoped>\n",
       "    .dataframe tbody tr th:only-of-type {\n",
       "        vertical-align: middle;\n",
       "    }\n",
       "\n",
       "    .dataframe tbody tr th {\n",
       "        vertical-align: top;\n",
       "    }\n",
       "\n",
       "    .dataframe thead th {\n",
       "        text-align: right;\n",
       "    }\n",
       "</style>\n",
       "<table border=\"1\" class=\"dataframe\">\n",
       "  <thead>\n",
       "    <tr style=\"text-align: right;\">\n",
       "      <th></th>\n",
       "      <th>timeline</th>\n",
       "      <th>avg_percision</th>\n",
       "      <th>mean_avg_percision</th>\n",
       "      <th>num_users</th>\n",
       "    </tr>\n",
       "  </thead>\n",
       "  <tbody>\n",
       "    <tr>\n",
       "      <th>0</th>\n",
       "      <td>Wk_45</td>\n",
       "      <td>0.033708</td>\n",
       "      <td>0.039326</td>\n",
       "      <td>89</td>\n",
       "    </tr>\n",
       "    <tr>\n",
       "      <th>1</th>\n",
       "      <td>Wk_46</td>\n",
       "      <td>0.027429</td>\n",
       "      <td>0.025771</td>\n",
       "      <td>175</td>\n",
       "    </tr>\n",
       "    <tr>\n",
       "      <th>2</th>\n",
       "      <td>Wk_47</td>\n",
       "      <td>0.041290</td>\n",
       "      <td>0.060194</td>\n",
       "      <td>155</td>\n",
       "    </tr>\n",
       "    <tr>\n",
       "      <th>3</th>\n",
       "      <td>Wk_48</td>\n",
       "      <td>0.027679</td>\n",
       "      <td>0.038646</td>\n",
       "      <td>224</td>\n",
       "    </tr>\n",
       "    <tr>\n",
       "      <th>4</th>\n",
       "      <td>Wk_49</td>\n",
       "      <td>0.027097</td>\n",
       "      <td>0.029183</td>\n",
       "      <td>310</td>\n",
       "    </tr>\n",
       "    <tr>\n",
       "      <th>5</th>\n",
       "      <td>Wk_50</td>\n",
       "      <td>0.026385</td>\n",
       "      <td>0.032806</td>\n",
       "      <td>379</td>\n",
       "    </tr>\n",
       "    <tr>\n",
       "      <th>6</th>\n",
       "      <td>Wk_51</td>\n",
       "      <td>0.030867</td>\n",
       "      <td>0.035043</td>\n",
       "      <td>392</td>\n",
       "    </tr>\n",
       "    <tr>\n",
       "      <th>7</th>\n",
       "      <td>Wk_52</td>\n",
       "      <td>0.027551</td>\n",
       "      <td>0.029617</td>\n",
       "      <td>392</td>\n",
       "    </tr>\n",
       "  </tbody>\n",
       "</table>\n",
       "</div>"
      ],
      "text/plain": [
       "  timeline  avg_percision  mean_avg_percision  num_users\n",
       "0    Wk_45       0.033708            0.039326         89\n",
       "1    Wk_46       0.027429            0.025771        175\n",
       "2    Wk_47       0.041290            0.060194        155\n",
       "3    Wk_48       0.027679            0.038646        224\n",
       "4    Wk_49       0.027097            0.029183        310\n",
       "5    Wk_50       0.026385            0.032806        379\n",
       "6    Wk_51       0.030867            0.035043        392\n",
       "7    Wk_52       0.027551            0.029617        392"
      ]
     },
     "execution_count": 9,
     "metadata": {},
     "output_type": "execute_result"
    }
   ],
   "source": [
    "result_df"
   ]
  },
  {
   "cell_type": "code",
   "execution_count": 10,
   "id": "fb892640-856e-418d-a5a9-199b1258915c",
   "metadata": {},
   "outputs": [
    {
     "data": {
      "text/plain": [
       "<matplotlib.legend.Legend at 0x20e57b4bee0>"
      ]
     },
     "execution_count": 10,
     "metadata": {},
     "output_type": "execute_result"
    },
    {
     "data": {
      "image/png": "[encoded data removed]",
      "text/plain": [
       "<Figure size 720x432 with 1 Axes>"
      ]
     },
     "metadata": {
      "needs_background": "light"
     },
     "output_type": "display_data"
    }
   ],
   "source": [
    "#plot for avg_percision and mean_avg_percision\n",
    "plt.figure(figsize=(10,6))\n",
    "plt.plot(result_df.timeline, result_df.avg_percision, color= 'blue')\n",
    "plt.plot(result_df.timeline, result_df.mean_avg_percision, color= 'orange')\n",
    "plt.title(\"Matrices for user based collaborative filtering\")\n",
    "plt.xlabel('2018 Nov-Dec')\n",
    "plt.ylabel('Precision of 5 products')\n",
    "plt.legend(['Average Percision','Mean Average Percision'])"
   ]
  },
  {
   "cell_type": "code",
   "execution_count": 11,
   "id": "7ee4fa4f-a74f-4144-b2cc-7423599d773e",
   "metadata": {},
   "outputs": [
    {
     "data": {
      "text/plain": [
       "<matplotlib.legend.Legend at 0x20e59638e50>"
      ]
     },
     "execution_count": 11,
     "metadata": {},
     "output_type": "execute_result"
    },
    {
     "data": {
      "image/png": "[encoded data removed]",
      "text/plain": [
       "<Figure size 720x432 with 1 Axes>"
      ]
     },
     "metadata": {
      "needs_background": "light"
     },
     "output_type": "display_data"
    }
   ],
   "source": [
    "#scatter plot for avg_percision and mean_avg_percision against number of users\n",
    "plt.figure(figsize=(10,6))\n",
    "plt.scatter(result_df.num_users, result_df.avg_percision, color = 'blue')\n",
    "plt.scatter(result_df.num_users, result_df.mean_avg_percision, color = 'orange')\n",
    "plt.xlabel('Number of customers')\n",
    "plt.ylabel('Precision of 5 products')\n",
    "plt.legend(['Average Percision','Mean Average Percision'])"
   ]
  }
 ],
 "metadata": {
  "kernelspec": {
   "display_name": "Python 3",
   "language": "python",
   "name": "python3"
  },
  "language_info": {
   "codemirror_mode": {
    "name": "ipython",
    "version": 3
   },
   "file_extension": ".py",
   "mimetype": "text/x-python",
   "name": "python",
   "nbconvert_exporter": "python",
   "pygments_lexer": "ipython3",
   "version": "3.8.8"
  }
 },
 "nbformat": 4,
 "nbformat_minor": 5
}
